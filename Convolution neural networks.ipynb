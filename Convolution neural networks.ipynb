{
 "cells": [
  {
   "cell_type": "code",
   "execution_count": 44,
   "metadata": {},
   "outputs": [],
   "source": [
    "# Importing Library\n",
    "import tensorflow as tf\n",
    "import numpy as np\n",
    "from keras.preprocessing.image import ImageDataGenerator\n",
    "from keras.preprocessing import image"
   ]
  },
  {
   "cell_type": "markdown",
   "metadata": {},
   "source": [
    "### Data Preprocessing"
   ]
  },
  {
   "cell_type": "code",
   "execution_count": 45,
   "metadata": {},
   "outputs": [
    {
     "name": "stdout",
     "output_type": "stream",
     "text": [
      "Found 8000 images belonging to 2 classes.\n"
     ]
    }
   ],
   "source": [
    "# Training Data Preprocessing\n",
    "\n",
    "train_datagen = ImageDataGenerator(\n",
    "rescale=1./255,\n",
    "shear_range=0.2,\n",
    "zoom_range=0.2,\n",
    "horizontal_flip=True\n",
    ")\n",
    "training_set = train_datagen.flow_from_directory(\n",
    "    directory='dataset//training_set',\n",
    "    target_size = (64,64),\n",
    "    batch_size = 32,\n",
    "    class_mode = 'binary'\n",
    ")"
   ]
  },
  {
   "cell_type": "code",
   "execution_count": 46,
   "metadata": {},
   "outputs": [
    {
     "name": "stdout",
     "output_type": "stream",
     "text": [
      "Found 2000 images belonging to 2 classes.\n"
     ]
    }
   ],
   "source": [
    "# Preprocessing Test Data\n",
    "\n",
    "test_datagen = ImageDataGenerator(rescale=1./255)\n",
    "test_set = test_datagen.flow_from_directory('dataset//test_set',\n",
    "                                            target_size = (64,64),\n",
    "                                            batch_size = 32,\n",
    "                                            class_mode = 'binary'\n",
    ")"
   ]
  },
  {
   "cell_type": "markdown",
   "metadata": {},
   "source": [
    "### CNN"
   ]
  },
  {
   "cell_type": "code",
   "execution_count": 47,
   "metadata": {},
   "outputs": [],
   "source": [
    "# CNN initializing\n",
    "\n",
    "cnn = tf.keras.models.Sequential()"
   ]
  },
  {
   "cell_type": "code",
   "execution_count": 48,
   "metadata": {},
   "outputs": [],
   "source": [
    "# adding convolution 1st layer\n",
    "\n",
    "cnn.add(tf.keras.layers.Conv2D(filters=32,kernel_size = 3,activation='relu',input_shape=[64,64,3]))\n"
   ]
  },
  {
   "cell_type": "code",
   "execution_count": 49,
   "metadata": {},
   "outputs": [],
   "source": [
    "# adding pooling\n",
    "\n",
    "cnn.add(tf.keras.layers.MaxPool2D(pool_size=2,strides=2))\n"
   ]
  },
  {
   "cell_type": "code",
   "execution_count": 50,
   "metadata": {},
   "outputs": [],
   "source": [
    "# Adding 2nd Convolution layer and Pooling layer\n",
    "\n",
    "cnn.add(tf.keras.layers.Conv2D(filters=32,kernel_size = 3,activation='relu'))\n",
    "cnn.add(tf.keras.layers.MaxPool2D(pool_size=2,strides=2))"
   ]
  },
  {
   "cell_type": "code",
   "execution_count": 51,
   "metadata": {},
   "outputs": [],
   "source": [
    "# Flattening \n",
    "\n",
    "cnn.add(tf.keras.layers.Flatten())"
   ]
  },
  {
   "cell_type": "markdown",
   "metadata": {},
   "source": [
    "### Full Connection ANN"
   ]
  },
  {
   "cell_type": "code",
   "execution_count": 52,
   "metadata": {},
   "outputs": [],
   "source": [
    "# Building the fully connected layers\n",
    "cnn.add(tf.keras.layers.Dense(units=128,activation='relu'))\n"
   ]
  },
  {
   "cell_type": "code",
   "execution_count": 53,
   "metadata": {},
   "outputs": [],
   "source": [
    "# Output layer\n",
    "\n",
    "cnn.add(tf.keras.layers.Dense(units=1,activation='sigmoid'))"
   ]
  },
  {
   "cell_type": "markdown",
   "metadata": {},
   "source": [
    "### Training the CNN "
   ]
  },
  {
   "cell_type": "code",
   "execution_count": 54,
   "metadata": {},
   "outputs": [],
   "source": [
    "cnn.compile(optimizer='adam',loss='binary_crossentropy',metrics=['accuracy'])"
   ]
  },
  {
   "cell_type": "code",
   "execution_count": 58,
   "metadata": {},
   "outputs": [
    {
     "name": "stdout",
     "output_type": "stream",
     "text": [
      "Epoch 1/25\n",
      "250/250 [==============================] - 182s 727ms/step - loss: 0.6716 - accuracy: 0.5845 - val_loss: 0.6347 - val_accuracy: 0.6480\n",
      "Epoch 2/25\n",
      "250/250 [==============================] - 75s 299ms/step - loss: 0.6136 - accuracy: 0.6610 - val_loss: 0.5901 - val_accuracy: 0.6900\n",
      "Epoch 3/25\n",
      "250/250 [==============================] - 76s 303ms/step - loss: 0.5645 - accuracy: 0.7104 - val_loss: 0.5624 - val_accuracy: 0.7205\n",
      "Epoch 4/25\n",
      "250/250 [==============================] - 84s 338ms/step - loss: 0.5289 - accuracy: 0.7339 - val_loss: 0.5119 - val_accuracy: 0.7525\n",
      "Epoch 5/25\n",
      "250/250 [==============================] - 79s 315ms/step - loss: 0.5085 - accuracy: 0.7527 - val_loss: 0.4992 - val_accuracy: 0.7590\n",
      "Epoch 6/25\n",
      "250/250 [==============================] - 75s 302ms/step - loss: 0.4838 - accuracy: 0.7685 - val_loss: 0.5024 - val_accuracy: 0.7585\n",
      "Epoch 7/25\n",
      "250/250 [==============================] - 78s 311ms/step - loss: 0.4788 - accuracy: 0.7738 - val_loss: 0.5104 - val_accuracy: 0.7625\n",
      "Epoch 8/25\n",
      "250/250 [==============================] - 73s 294ms/step - loss: 0.4542 - accuracy: 0.7839 - val_loss: 0.4535 - val_accuracy: 0.7845\n",
      "Epoch 9/25\n",
      "250/250 [==============================] - 96s 385ms/step - loss: 0.4479 - accuracy: 0.7891 - val_loss: 0.4555 - val_accuracy: 0.7845\n",
      "Epoch 10/25\n",
      "250/250 [==============================] - 100s 401ms/step - loss: 0.4242 - accuracy: 0.8040 - val_loss: 0.4661 - val_accuracy: 0.7910\n",
      "Epoch 11/25\n",
      "250/250 [==============================] - 78s 311ms/step - loss: 0.4289 - accuracy: 0.8029 - val_loss: 0.4702 - val_accuracy: 0.7900\n",
      "Epoch 12/25\n",
      "250/250 [==============================] - 88s 351ms/step - loss: 0.4064 - accuracy: 0.8127 - val_loss: 0.4473 - val_accuracy: 0.7915\n",
      "Epoch 13/25\n",
      "250/250 [==============================] - 100s 398ms/step - loss: 0.3985 - accuracy: 0.8126 - val_loss: 0.4263 - val_accuracy: 0.8080\n",
      "Epoch 14/25\n",
      "250/250 [==============================] - 107s 427ms/step - loss: 0.3835 - accuracy: 0.8300 - val_loss: 0.4937 - val_accuracy: 0.7705\n",
      "Epoch 15/25\n",
      "250/250 [==============================] - 84s 338ms/step - loss: 0.3725 - accuracy: 0.8317 - val_loss: 0.4535 - val_accuracy: 0.8020\n",
      "Epoch 16/25\n",
      "250/250 [==============================] - 68s 273ms/step - loss: 0.3637 - accuracy: 0.8372 - val_loss: 0.4638 - val_accuracy: 0.7935\n",
      "Epoch 17/25\n",
      "250/250 [==============================] - 70s 282ms/step - loss: 0.3523 - accuracy: 0.8447 - val_loss: 0.5087 - val_accuracy: 0.7855\n",
      "Epoch 18/25\n",
      "250/250 [==============================] - 82s 327ms/step - loss: 0.3414 - accuracy: 0.8518 - val_loss: 0.4586 - val_accuracy: 0.8000\n",
      "Epoch 19/25\n",
      "250/250 [==============================] - 78s 314ms/step - loss: 0.3369 - accuracy: 0.8543 - val_loss: 0.4706 - val_accuracy: 0.7945\n",
      "Epoch 20/25\n",
      "250/250 [==============================] - 81s 326ms/step - loss: 0.3262 - accuracy: 0.8524 - val_loss: 0.4569 - val_accuracy: 0.8060\n",
      "Epoch 21/25\n",
      "250/250 [==============================] - 70s 279ms/step - loss: 0.3075 - accuracy: 0.8651 - val_loss: 0.4631 - val_accuracy: 0.8035\n",
      "Epoch 22/25\n",
      "250/250 [==============================] - 70s 280ms/step - loss: 0.3013 - accuracy: 0.8692 - val_loss: 0.4578 - val_accuracy: 0.8060\n",
      "Epoch 23/25\n",
      "250/250 [==============================] - 68s 274ms/step - loss: 0.2938 - accuracy: 0.8750 - val_loss: 0.5125 - val_accuracy: 0.7855\n",
      "Epoch 24/25\n",
      "250/250 [==============================] - 70s 279ms/step - loss: 0.2866 - accuracy: 0.8820 - val_loss: 0.4746 - val_accuracy: 0.8135\n",
      "Epoch 25/25\n",
      "250/250 [==============================] - 69s 277ms/step - loss: 0.2717 - accuracy: 0.8869 - val_loss: 0.4407 - val_accuracy: 0.8225\n"
     ]
    },
    {
     "data": {
      "text/plain": [
       "<tensorflow.python.keras.callbacks.History at 0x22dcead1988>"
      ]
     },
     "execution_count": 58,
     "metadata": {},
     "output_type": "execute_result"
    }
   ],
   "source": [
    "cnn.fit(x=training_set,validation_data=test_set,epochs=25)"
   ]
  },
  {
   "cell_type": "markdown",
   "metadata": {},
   "source": [
    "### Making The prediction"
   ]
  },
  {
   "cell_type": "code",
   "execution_count": 95,
   "metadata": {},
   "outputs": [],
   "source": [
    "test_image = image.load_img('dataset/single_prediction/cat_or_dog_7.jpg',target_size=(64,64))\n",
    "test_image = image.img_to_array(test_image)\n",
    "test_image = np.expand_dims(test_image,axis=0)\n",
    "result = cnn.predict(test_image/255.0)\n",
    "training_set.class_indices\n",
    "if result[0][0] >= 0.5:\n",
    "         prediction = 'dog'\n",
    "else:\n",
    "    prediction = 'Cat'\n",
    "    "
   ]
  },
  {
   "cell_type": "code",
   "execution_count": 96,
   "metadata": {},
   "outputs": [
    {
     "name": "stdout",
     "output_type": "stream",
     "text": [
      "dog\n"
     ]
    }
   ],
   "source": [
    "print(prediction)"
   ]
  },
  {
   "cell_type": "code",
   "execution_count": 97,
   "metadata": {},
   "outputs": [
    {
     "data": {
      "text/plain": [
       "array([[0.76328117]], dtype=float32)"
      ]
     },
     "execution_count": 97,
     "metadata": {},
     "output_type": "execute_result"
    }
   ],
   "source": [
    "result"
   ]
  },
  {
   "cell_type": "code",
   "execution_count": null,
   "metadata": {},
   "outputs": [],
   "source": []
  },
  {
   "cell_type": "code",
   "execution_count": null,
   "metadata": {},
   "outputs": [],
   "source": []
  },
  {
   "cell_type": "code",
   "execution_count": null,
   "metadata": {},
   "outputs": [],
   "source": []
  }
 ],
 "metadata": {
  "kernelspec": {
   "display_name": "Python 3",
   "language": "python",
   "name": "python3"
  },
  "language_info": {
   "codemirror_mode": {
    "name": "ipython",
    "version": 3
   },
   "file_extension": ".py",
   "mimetype": "text/x-python",
   "name": "python",
   "nbconvert_exporter": "python",
   "pygments_lexer": "ipython3",
   "version": "3.7.6"
  }
 },
 "nbformat": 4,
 "nbformat_minor": 4
}
